{
 "cells": [
  {
   "cell_type": "code",
   "execution_count": null,
   "metadata": {
    "collapsed": true
   },
   "outputs": [],
   "source": [
    "import string\n",
    "import re\n",
    "import pandas as pd\n",
    "\n",
    "def remove_punct(text):\n",
    "    text  = \"\".join([char for char in text if char not in string.punctuation])\n",
    "    text = re.sub('[0-9]+', '', text)\n",
    "    return text\n",
    "\n",
    "def count_remover(text,threshold=4):\n",
    "    if len(text.split())<threshold:\n",
    "        return pd.NaT\n",
    "    else:\n",
    "        return text\n",
    "\n",
    "data=pd.read_json('./data/tweets.json' ,lines=True)  #download this file from: https://nuage.lip6.fr/s/XKkcWLAiDiykZ4D\n",
    "df=data[[\"Text\",\"CreatedAt\"]].rename(columns={\"Text\":\"content\",\"CreatedAt\":\"time\"})\n",
    "df['content'] = df['content'].str.replace(r'@\\w+', '')\n",
    "df['content'] = df['content'].apply(lambda x: re.sub(r\"http\\S+\", \"\", x))\n",
    "df['content'] = df['content'].apply(lambda x: remove_punct(x))\n",
    "df['content'] = df['content'].apply(lambda x: count_remover(x))\n",
    "df=df.dropna()\n",
    "df['time'] = pd.to_datetime(df['time'], infer_datetime_format=True)\n",
    "df['time'] = df['time'].dt.to_period('M')\n",
    "df['time'] = df['time'].apply(lambda x: x.ordinal)\n",
    "\n",
    "df=df.sort_values(\"time\")\n",
    "df=df.dropna()\n",
    "df=df.reset_index(drop=True)\n",
    "df=df[[\"content\",\"time\"]]\n",
    "df=df.reset_index()"
   ]
  },
  {
   "cell_type": "code",
   "execution_count": null,
   "outputs": [],
   "source": [
    "from antm import ANTM\n",
    "\n",
    "window_size=6\n",
    "overlap=2\n",
    "\n",
    "#take a random sample for example\n",
    "dt=df.sample(n = 5000)\n",
    "dt=dt.sort_values(\"time\")\n",
    "dt=dt.reset_index(drop=True)\n",
    "dt=dt.reset_index()\n",
    "\n",
    "model=ANTM(dt,overlap,window_size,mode=\"data2vec\",num_words=5,path=\"./saved_data\")\n",
    "\n",
    "#learn the model and save it\n",
    "model.fit(save=True)"
   ],
   "metadata": {
    "collapsed": false
   }
  }
 ],
 "metadata": {
  "kernelspec": {
   "display_name": "Python 3",
   "language": "python",
   "name": "python3"
  },
  "language_info": {
   "codemirror_mode": {
    "name": "ipython",
    "version": 2
   },
   "file_extension": ".py",
   "mimetype": "text/x-python",
   "name": "python",
   "nbconvert_exporter": "python",
   "pygments_lexer": "ipython2",
   "version": "2.7.6"
  }
 },
 "nbformat": 4,
 "nbformat_minor": 0
}
