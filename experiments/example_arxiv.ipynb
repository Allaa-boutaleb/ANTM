{
 "cells": [
  {
   "cell_type": "code",
   "execution_count": null,
   "metadata": {
    "collapsed": true
   },
   "outputs": [],
   "source": [
    "import pandas as pd\n",
    "import re\n",
    "import string\n",
    "\n",
    "df=pd.read_json(\"./data/arxiv-metadata-oai-snapshot.json\",lines=True) #download from https://www.kaggle.com/datasets/Cornell-University/arxiv\n",
    "\n",
    "def remove_punct(text):\n",
    "    text  = \"\".join([char for char in text if char not in string.punctuation])\n",
    "    text = re.sub('[0-9]+', '', text)\n",
    "    return text\n",
    "\n",
    "df=df[[\"abstract\",\"update_date\"]].rename(columns={\"abstract\":\"content\",\"year_update\":\"time\"})\n",
    "df['time'] = pd.to_datetime(df['time'], infer_datetime_format=True)\n",
    "df['time'] = df['time'].dt.to_period('Y')\n",
    "df=df.sort_values(by=\"time\")\n",
    "\n",
    "df['content'] = df['content'].str.replace(r'@\\w+', '')\n",
    "df['content'] = df['content'].str.replace('\\n', ' ').replace('\\r', '')\n",
    "df['content'] = df['content'].apply(lambda x: remove_punct(x))\n",
    "\n",
    "df=df.dropna()\n",
    "\n",
    "df=df.sort_values(by=\"time\")\n",
    "df=df.reset_index(drop=True)\n",
    "df=df.reset_index()"
   ]
  },
  {
   "cell_type": "code",
   "execution_count": null,
   "outputs": [],
   "source": [
    "from antm import ANTM\n",
    "\n",
    "window_size=3\n",
    "overlap=1\n",
    "\n",
    "#take a random sample for example\n",
    "dt=df.sample(n = 1000)\n",
    "dt=dt.sort_values(\"time\")\n",
    "dt=dt.reset_index(drop=True)\n",
    "dt=dt.reset_index()\n",
    "\n",
    "model=ANTM(dt,overlap,window_size,mode=\"data2vec\",num_words=10,path=\"./saved_data\")\n",
    "\n",
    "#learn the model and save it\n",
    "model.fit(save=True)"
   ],
   "metadata": {
    "collapsed": false
   }
  }
 ],
 "metadata": {
  "kernelspec": {
   "display_name": "Python 3",
   "language": "python",
   "name": "python3"
  },
  "language_info": {
   "codemirror_mode": {
    "name": "ipython",
    "version": 2
   },
   "file_extension": ".py",
   "mimetype": "text/x-python",
   "name": "python",
   "nbconvert_exporter": "python",
   "pygments_lexer": "ipython2",
   "version": "2.7.6"
  }
 },
 "nbformat": 4,
 "nbformat_minor": 0
}
