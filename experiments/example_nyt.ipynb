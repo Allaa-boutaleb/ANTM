{
 "cells": [
  {
   "cell_type": "code",
   "execution_count": null,
   "outputs": [],
   "source": [
    "import re\n",
    "import string\n",
    "import pandas as pd\n",
    "\n",
    "def remove_punct(text):\n",
    "    text  = \"\".join([char for char in text if char not in string.punctuation])\n",
    "    text = re.sub('[0-9]+', '', text)\n",
    "    return text\n",
    "#download this file from: https://nuage.lip6.fr/s/XKkcWLAiDiykZ4D\n",
    "data=pd.read_json('./data/news.json' ,lines=True)\n",
    "df=data[[\"headline\",\"short_description\",\"date\"]]\n",
    "df=df.dropna()\n",
    "df[\"content\"]=df.apply(lambda row: row[\"headline\"]+\" \"+row[\"short_description\"] ,axis=1)\n",
    "df=df[[\"content\",\"date\"]]\n",
    "df['content'] = df['content'].apply(lambda x: remove_punct(x))\n",
    "df['time'] = pd.to_datetime(df['date'], infer_datetime_format=True)\n",
    "df['time'] = df['time'].dt.to_period('Y')\n",
    "df=df.sort_values(\"time\")\n",
    "df=df.reset_index(drop=True)\n",
    "df=df.dropna()\n",
    "df=df[[\"content\",\"time\"]]\n",
    "df=df.reset_index()"
   ],
   "metadata": {
    "collapsed": false
   }
  },
  {
   "cell_type": "code",
   "execution_count": null,
   "outputs": [],
   "source": [
    "from antm import ANTM\n",
    "\n",
    "window_size=3\n",
    "overlap=1\n",
    "\n",
    "#take a random sample for example\n",
    "dt=df.sample(n = 1000)\n",
    "dt=dt.sort_values(\"time\")\n",
    "dt=dt.reset_index(drop=True)\n",
    "dt=dt.reset_index()\n",
    "\n",
    "model=ANTM(dt,overlap,window_size,mode=\"data2vec\",num_words=10,path=\"./saved_data\")"
   ],
   "metadata": {
    "collapsed": false
   }
  }
 ],
 "metadata": {
  "kernelspec": {
   "display_name": "Python 3",
   "language": "python",
   "name": "python3"
  },
  "language_info": {
   "codemirror_mode": {
    "name": "ipython",
    "version": 2
   },
   "file_extension": ".py",
   "mimetype": "text/x-python",
   "name": "python",
   "nbconvert_exporter": "python",
   "pygments_lexer": "ipython2",
   "version": "2.7.6"
  }
 },
 "nbformat": 4,
 "nbformat_minor": 0
}
