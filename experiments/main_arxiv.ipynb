{
 "cells": [
  {
   "cell_type": "code",
   "execution_count": null,
   "metadata": {
    "collapsed": true
   },
   "outputs": [],
   "source": [
    "import pandas as pd\n",
    "import re\n",
    "import string\n",
    "\n",
    "df=pd.read_json(\"./data/arxiv-metadata-oai-snapshot.json\",lines=True) #download from https://www.kaggle.com/datasets/Cornell-University/arxiv\n",
    "\n",
    "def remove_punct(text):\n",
    "    text  = \"\".join([char for char in text if char not in string.punctuation])\n",
    "    text = re.sub('[0-9]+', '', text)\n",
    "    return text\n",
    "\n",
    "df=df[[\"abstract\",\"update_date\"]]\n",
    "df['year'] = pd.to_datetime(df['update_date'], infer_datetime_format=True)\n",
    "df['year'] = df['year'].dt.to_period('Y')\n",
    "df=df.sort_values(by=\"year\")\n",
    "\n",
    "\n",
    "df=df[[\"abstract\",\"year\"]]\n",
    "df['abstract'] = df['abstract'].str.replace(r'@\\w+', '')\n",
    "df['abstract'] = df['abstract'].str.replace('\\n', ' ').replace('\\r', '')\n",
    "df['abstract'] = df['abstract'].apply(lambda x: remove_punct(x))\n",
    "df=df.dropna()\n",
    "df=df.sort_values(by=\"year\")\n",
    "df=df.reset_index(drop=True)\n",
    "df=df.reset_index()"
   ]
  },
  {
   "cell_type": "code",
   "execution_count": null,
   "outputs": [],
   "source": [
    "from models.antm import ANTM\n",
    "window_size=3\n",
    "overlap=1\n",
    "\n",
    "#take a random sample for example\n",
    "dt=df.sample(n = 1000)\n",
    "dt=dt.sort_values(\"year\")\n",
    "dt=dt.reset_index(drop=True)\n",
    "dt=dt.reset_index()\n",
    "\n",
    "evolving_topics=ANTM(dt,overlap,window_size,mode=\"data2vec\",num_words=10)"
   ],
   "metadata": {
    "collapsed": false
   }
  }
 ],
 "metadata": {
  "kernelspec": {
   "display_name": "Python 3",
   "language": "python",
   "name": "python3"
  },
  "language_info": {
   "codemirror_mode": {
    "name": "ipython",
    "version": 2
   },
   "file_extension": ".py",
   "mimetype": "text/x-python",
   "name": "python",
   "nbconvert_exporter": "python",
   "pygments_lexer": "ipython2",
   "version": "2.7.6"
  }
 },
 "nbformat": 4,
 "nbformat_minor": 0
}
